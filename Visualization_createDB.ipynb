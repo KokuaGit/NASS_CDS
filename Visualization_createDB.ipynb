{
 "cells": [
  {
   "cell_type": "markdown",
   "metadata": {},
   "source": [
    "# テーブル概要\n",
    "accident:  \n",
    "event:  \n",
    "gv(general vehicle):車両一般  \n",
    "ve(Exterior Vehicle):車両外部  \n",
    "vi(Interior Vehicle):車両内部  \n",
    "oa(OCCUPANT ASSESSMENT):乗員の調査  \n",
    "oi(OCCUPANT INJURY):乗員の傷害(mergeに使用できるkeyの値が同一でも傷害箇所によってレコードが増加)  "
   ]
  },
  {
   "cell_type": "markdown",
   "metadata": {},
   "source": [
    "# 最終的な作成データ\n",
    "- Crash year 2010–2015\n",
    "- Vehicle model year 2001–2015\n",
    "- Light vehicles (passenger cars, pick-ups and mini-vans) \n",
    "- Non-ejected occupants\n",
    "- Occupant age 15 or higher\n",
    "- Occupants with known injury status or fatality"
   ]
  },
  {
   "cell_type": "markdown",
   "metadata": {},
   "source": [
    "# ライブラリのインポート Pandasの表示設定\n",
    "同一cellに複数テーブルを表示  \n",
    "全カラムを表示  \n",
    "最大表示行数:500  \n",
    "1つのカラムの最大表示文字数:200  \n",
    "floatの有効桁数:4  \n",
    "色付き文字の出力:print(pycolor.RED + '文字列' + pycolor.END)  "
   ]
  },
  {
   "cell_type": "code",
   "execution_count": null,
   "metadata": {},
   "outputs": [],
   "source": [
    "import pandas as pd\n",
    "import numpy as np\n",
    "import matplotlib.pyplot as plt\n",
    "import os\n",
    "import csv\n",
    "import sys\n",
    "import seaborn as sns\n",
    "import xgboost as xgb\n",
    "from sklearn.model_selection import GridSearchCV\n",
    "from sklearn.metrics import  confusion_matrix, classification_report\n",
    "from sklearn.ensemble import RandomForestRegressor\n",
    "from sklearn.ensemble import RandomForestClassifier\n",
    "from sklearn.metrics import (roc_curve, auc, accuracy_score)\n",
    "from sklearn.linear_model import Lasso\n",
    "from sklearn import linear_model\n",
    "from sklearn.feature_selection import SelectFromModel\n",
    "from IPython import embed\n",
    "from IPython.core.interactiveshell import InteractiveShell\n",
    "from sklearn.preprocessing import StandardScaler\n",
    "from sklearn import metrics\n",
    "from sklearn.model_selection import GridSearchCV\n",
    "from sklearn.pipeline import Pipeline\n",
    "from sklearn.linear_model import LogisticRegression\n",
    "from sklearn.metrics import precision_recall_curve\n",
    "InteractiveShell.ast_node_interactivity = \"all\"\n",
    "pd.set_option('display.max_columns', None)\n",
    "pd.set_option('display.max_rows', 500)\n",
    "pd.set_option('display.max_colwidth', 200)\n",
    "pd.options.display.float_format = '{:.4g}'.format\n",
    "class pycolor:\n",
    "    BLACK = '\\033[30m'\n",
    "    RED = '\\033[31m'\n",
    "    GREEN = '\\033[32m'\n",
    "    YELLOW = '\\033[33m'\n",
    "    BLUE = '\\033[34m'\n",
    "    PURPLE = '\\033[35m'\n",
    "    CYAN = '\\033[36m'\n",
    "    WHITE = '\\033[37m'\n",
    "    END = '\\033[0m'\n",
    "    BOLD = '\\038[1m'\n",
    "    UNDERLINE = '\\033[4m'\n",
    "    INVISIBLE = '\\033[08m'\n",
    "    REVERCE = '\\033[07m'"
   ]
  },
  {
   "cell_type": "markdown",
   "metadata": {},
   "source": [
    "# NASS CDSデータの読み込み"
   ]
  },
  {
   "cell_type": "code",
   "execution_count": null,
   "metadata": {},
   "outputs": [],
   "source": [
    "path = os.path.dirname(os.path.abspath('__file__'))\n",
    "file_name = ['accident', 'event', 'gv', 'oa', 'oi', 've', 'vi']\n",
    "cds_key = []\n",
    "cds = {}\n",
    "uyear = [str(x) for x in range(1, 16)]\n",
    "for year in range(2001, 2016):\n",
    "    for file in file_name:\n",
    "        if year >= 2009:\n",
    "            df = pd.read_sas(os.path.join(path, str(year), 'FormattedData', '{}.sas7bdat'.format(file)))\n",
    "        elif year >= 2001:\n",
    "            df = pd.read_sas(os.path.join(path, str(year), 'PCSAS', '{}.sas7bdat'.format(file)))\n",
    "        cds_key.append('{}_{}'.format(file, year - 2000))\n",
    "        cds['{}_{}'.format(file, year - 2000)] = df"
   ]
  },
  {
   "cell_type": "markdown",
   "metadata": {},
   "source": [
    "## 整数の値が入っているはずなのに小数点以下の値が入っているもの，同じ値なのにpython内部で別の値として認識されているものを修正\n",
    "## 複数のテーブルで重複しているが利用しないカラムの削除"
   ]
  },
  {
   "cell_type": "code",
   "execution_count": null,
   "metadata": {},
   "outputs": [],
   "source": [
    "for col in ['PSU', 'VEHNO']:\n",
    "    for y in uyear:\n",
    "        for og in ['oa', 'gv', 've', 'vi']:\n",
    "            cds['{}_{}'.format(og, y)][col] = cds['{}_{}'.format(og, y)][col].astype(np.int64)\n",
    "        if col !=  'VEHNO':\n",
    "            og = 'accident'\n",
    "            cds['{}_{}'.format(og, y)][col] = cds['{}_{}'.format(og, y)][col].astype(np.int64)\n",
    "            \n",
    "for y in uyear:\n",
    "    cds['accident_{}'.format(y)]['VEHFORMS'] = cds['accident_{}'.format(y)]['VEHFORMS'].astype(np.int64)\n",
    "\n",
    "for col in ['CASENO', 'RATWGT', 'STRATIF', 'VERSION']:\n",
    "    #for y in range(10, 16):\n",
    "    for y in uyear:\n",
    "        for og in ['oa', 'gv', 've', 'vi', 'accident', 'event', 'oi']:\n",
    "            cds['{}_{}'.format(og, y)] = cds['{}_{}'.format(og, y)].drop(col, axis = 1)"
   ]
  },
  {
   "cell_type": "markdown",
   "metadata": {},
   "source": [
    "## テーブル毎の結合keyを宣言"
   ]
  },
  {
   "cell_type": "code",
   "execution_count": null,
   "metadata": {},
   "outputs": [],
   "source": [
    "merge_key = {}\n",
    "for file in file_name:\n",
    "    if file in ['accident', 'event']:\n",
    "        merge_key[file] =  ['CASEID', 'PSU']\n",
    "    if file in ['gv', 've', 'vi']:\n",
    "        merge_key[file] = ['CASEID', 'PSU', 'VEHNO']\n",
    "    if file in ['oa', 'oi']:\n",
    "        merge_key[file] = ['CASEID', 'PSU', 'VEHNO', 'OCCNO']"
   ]
  },
  {
   "cell_type": "markdown",
   "metadata": {},
   "source": [
    "## テーブルの結合\n",
    "oi,eventテーブルを除き,2010~2015年のデータをそれぞれ結合する"
   ]
  },
  {
   "cell_type": "code",
   "execution_count": null,
   "metadata": {},
   "outputs": [],
   "source": [
    "cds_merge = {}\n",
    "for year in uyear:\n",
    "    cds_merge[year] = cds['oa_{}'.format(year)]\n",
    "    for file in [x for x in file_name if not (x in ['oa', 'oi', 'event'])]:\n",
    "        if file != 'gv':\n",
    "            cds_merge[year] = pd.merge(cds_merge[year], cds['{}_{}'.format(file, year)], on = merge_key[file], how = 'left')\n",
    "        else:\n",
    "            cds_merge[year] = pd.merge(cds_merge[year], cds['{}_{}'.format(file, year)], on = merge_key[file], how = 'inner')"
   ]
  },
  {
   "cell_type": "markdown",
   "metadata": {},
   "source": [
    "## 編集用辞書データの作成"
   ]
  },
  {
   "cell_type": "code",
   "execution_count": null,
   "metadata": {},
   "outputs": [],
   "source": [
    "cds_prepro = {}\n",
    "for year in uyear:\n",
    "    cds_prepro[year] = cds_merge[year]\n",
    "    #print(year,len(cds_prepro[year]))"
   ]
  },
  {
   "cell_type": "markdown",
   "metadata": {},
   "source": [
    "## Car to Car・シートベルト着用・15歳以上・最も高いデルタVを記録した衝突対象がVEHNO1or2・自車と衝突車両のボディタイプが特殊車両やバイクでない \n",
    "GVのデータが存在する車両数なので,VEHFORMSのみで事故に関連した車両数が2台とは言い切れない\n",
    "ベルトは3点ベルトのみ着用しているとみなす"
   ]
  },
  {
   "cell_type": "code",
   "execution_count": null,
   "metadata": {},
   "outputs": [],
   "source": [
    "all_sum = 0\n",
    "for year in uyear:\n",
    "    cds_prepro[year] = cds_prepro[year].query('MANUSE == 4 & VEHFORMS == 2 & MAIS <= 6 & AGE >= 15 & OBJCONT1 <= 2 & otbdytyp < 80 & otbdytyp != 13 & BODYTYPE < 80 & BODYTYPE != 13')\n",
    "    print(year, len(cds_prepro[year]))\n",
    "    all_sum += len(cds_prepro[year])\n",
    "print(all_sum)"
   ]
  },
  {
   "cell_type": "markdown",
   "metadata": {},
   "source": [
    "## 自動運転中に取得可能な特徴量を全て抽出\n",
    "絞り込みに使用したPARUSEは除く  \n",
    "\n",
    "\n",
    "ACCIDENT:YEAR, MONTH, TIME, DAYWEEK, VEHFORMS  \n",
    "\n",
    "\n",
    "GV:MODEL, MODELYR, MAKE, BODYTYPE, ALIGNMNT, ANTILOCK, CARGOWGT,  CONDTREE, CURBWGT, FOURWHDR, FRTWHLDR, FUELCODE,  LGTCOND, PROFILE, RELINTER, RESTYPE, SPLIMIT, SURCOND, SURTYPE, TRAFCONT, TRAFFLOW, TRAVELSP, TRCTLFCT, VEHTYPE, VEHUSE, VEHWGT, WGTCDTR, WHLDRWHL, OTBDYTYP, OTVEHWGT  \n",
    "\n",
    "\n",
    "VE:FUELCAP1, FUELCAP2, FUELLOC1, FUELLOC2, FUELTYP1, FUELTYP2, FUELTNK1, FUELTNK2, ORIGAVTW, PDOF1, SHL1, SVL1, WHEELBAS \n",
    "\n",
    "\n",
    "VI:GLTYPWS, GLTYPLF, GLTYPLR, GLTYPRF, GLTYPRR, GLTYPBL, GLTYPRUF, GLTYPOTH, GLPREWS, GLPRELF, GLPRELR, GLPRERF, GLPRERR, GLPREBL, GLPRERUF, GLPREOTH, COLUMTYP, COLMTELE, COLMTILT, ODOMETER, ADAPTEQ  \n",
    "\n",
    "\n",
    "OA:AGE, BAGAVAIL, BAGAVOTH, BAGMAINT, BAGTYPE, BELTANCH, EYEWEAR, HEIGHT, MANAVAIL, MANUSE, POSTURE, ROLE, SEATPOS, SEATRACK, SEATTYPE, SEX, STORIENT, WEIGHT  \n",
    "\n",
    "\n",
    "作成した特徴量:otbsp"
   ]
  },
  {
   "cell_type": "code",
   "execution_count": null,
   "metadata": {},
   "outputs": [],
   "source": [
    "pcol = 'MAIS'\n",
    "use_col = [pcol, \\\n",
    "           'ACCTYPE', 'ROLLOBJ', 'IMPACTSP', 'GAD1', 'EVENTS', \\\n",
    "           'CASEID', 'PSU', 'VEHNO', \\\n",
    "           'YEAR', 'MONTH', 'TIME', 'DAYWEEK', 'DVTOTAL', 'VEHFORMS', \\\n",
    "           'MODEL', 'MODELYR', 'MAKE', 'BODYTYPE', 'ALIGNMNT', 'ANTILOCK', 'CARGOWGT', 'CONDTREE', 'CURBWGT', 'FOURWHDR', 'FRTWHLDR', 'FUELCODE', 'LGTCOND', 'PROFILE', 'RELINTER', 'RESTYPE', 'SPLIMIT', 'SURCOND', 'SURTYPE', 'TRAFCONT', 'TRAFFLOW', 'TRAVELSP', 'TRCTLFCT', 'VEHTYPE', 'VEHUSE', 'VEHWGT', 'WGTCDTR', 'WHLDRWHL', 'otbdytyp', 'otvehwgt', 'MANCOLL','PREMOVE', \\\n",
    "           'FUELCAP1', 'FUELCAP2', 'FUELLOC1', 'FUELLOC2', 'FUELTYP1', 'FUELTYP2','FUELTNK1', 'FUELTNK2', 'ORIGAVTW', 'PDOF1', 'SHL1', 'SVL1', 'WHEELBAS', 'OBJCONT1', 'OBJCONT2', 'DVC1', 'DVC2', 'PDOF2', 'DOF1', \\\n",
    "           'GLTYPWS', 'GLTYPLF', 'GLTYPLR', 'GLTYPRF', 'GLTYPRR', 'GLTYPBL', 'GLTYPRUF', 'GLTYPOTH', 'GLPREWS', 'GLPRELF', 'GLPRELR', 'GLPRERF', 'GLPRERR', 'GLPREBL', 'GLPRERUF', 'GLPREOTH', 'COLUMTYP', 'COLMTELE', 'COLMTILT', 'ODOMETER', 'ADAPTEQ', \\\n",
    "           'AGE', 'BAGAVAIL', 'BAGAVOTH', 'BAGMAINT', 'BAGTYPE', 'BELTANCH', 'EYEWEAR', 'HEIGHT', 'MANAVAIL', 'MANUSE', 'POSTURE',  'ROLE', 'SEATPOS', 'SEATRACK', 'SEATTYPE', 'SEX', 'STORIENT', 'WEIGHT', 'PARUSE', 'STBACINC' \\\n",
    "           ]\n",
    "for year in uyear:\n",
    "    cds_prepro[year] = cds_prepro[year][use_col]"
   ]
  },
  {
   "cell_type": "markdown",
   "metadata": {},
   "source": [
    "## SURCONDの年毎に違う値を修正\n",
    "2009年以降がより細分化されて記録されているので、2008年の基準に統一"
   ]
  },
  {
   "cell_type": "code",
   "execution_count": null,
   "metadata": {},
   "outputs": [],
   "source": [
    "'''\n",
    "for year in range(9, 16):\n",
    "    year = str(year)\n",
    "    cds_prepro[year].loc[cds_prepro[year]['SURCOND'] == 4, 'SURCOND'] =  3\n",
    "    cds_prepro[year].loc[cds_prepro[year]['SURCOND'] == 5, 'SURCOND'] = 4\n",
    "    cds_prepro[year].loc[(cds_prepro[year]['SURCOND'] >= 7)  & (cds_prepro[year]['SURCOND'] <= 9), 'SURCOND'] = 5\n",
    "    cds_prepro[year].loc[(cds_prepro[year]['SURCOND'] > 87) | (cds_prepro[year]['SURCOND']  == 6), 'SURCOND'] = 8\n",
    "'''"
   ]
  },
  {
   "cell_type": "markdown",
   "metadata": {},
   "source": [
    "## グルーピング"
   ]
  },
  {
   "cell_type": "code",
   "execution_count": null,
   "metadata": {},
   "outputs": [],
   "source": [
    "#[カラム名, グルーピング後カラム名, 比較演算子リスト, グルーピング閾値リスト, グルーピング後数値リスト]\n",
    "grouping = [['MAIS', 'MAIS3', ['<', '>='], [3, 3], [0, 1]],\\\n",
    "            ['BAGAVAIL', 'BAGAVAIL', ['>='], [2], [0]],\\\n",
    "            ['BAGAVOTH', 'BAGAVOTH', ['>='], [2], [0]],\\\n",
    "            ['SEATPOS', 'SEATROW', ['>=<', '>=<', '>='], [10, 20, 30], [1, 2, 3]],\\\n",
    "            ['SEATPOS', 'SEATROW2', ['>=<', '>='], [10, 20], [1, 2]],\\\n",
    "            ['SEATPOS', 'SEATLR', ['%', '%', '%>', '%'], [[10, 1], [10, 2], [10, 3], [10, 3]], [1, 2, 2, 3]],\\\n",
    "            ['SEATPOS', 'SEATLR2', ['%', '%>'], [[10, 1], [10, 1]], [1, 2]],\\\n",
    "            ['SEX', 'SEX', ['>='], [2], [2]],\\\n",
    "            ['DVTOTAL', 'DVper10', ['<'] + ['>=<' for i in range(9)] + ['>='], [10] + list(range(10, 110, 10)), list(range(11))],\\\n",
    "            ['AGE', 'AGEper5', ['<'] + ['>=<' for i in range(21, 86, 5)] + ['>='], [21] + list(range(21, 92, 5)), list(range(15, 91, 5))],\\\n",
    "            ['AGE', 'AGEG', ['<', '>=<', '>='], [60, 60, 70], [0, 1, 2]],\\\n",
    "            ['AGE', 'AGE55', ['<', '>='], [56, 56], [0, 1]],\\\n",
    "            ['CURBWGT', 'CURBper10', ['<'] + ['>=<' for i in range(46, 407, 10)] + ['>='], [46] + list(range(46, 417, 10)), list(range(45, 426, 10))],\\\n",
    "            ['otvehwgt', 'otvwper10', ['<'] + ['>=<' for i in range(46, 407, 10)] + ['>='], [46] + list(range(46, 417, 10)), list(range(45, 426, 10))],\\\n",
    "            ['MODELYR', 'MODELG', ['<', '>=<', '>=<', '>='], [1990, 1990, 1997, 2001], list(range(4))],\\\n",
    "            #['PDOF1', 'PDOFG', ['<', '>=<', '>=<', '>=<', '>='], [31, 40, 141, 211, 321], [0, 1, 2, 3, 0]],\\\n",
    "            ['PDOF1', 'PDOFG', ['<'] + ['>=<' for i in range(11)] +['>='], [15, 15, 45, 75, 105, 135, 165, 195, 225, 255, 285, 315, 345], list(range(12)) + [0]],\\\n",
    "            ['CURBWGT', 'WGTG', ['<', '>=<', '>='], [101, 101, 201], [0, 1, 2]],\\\n",
    "            #['CURBWGT', 'WGTG', ['<', '>=<', '>=<', '>='], [101, 101, 151, 201], [0, 1, 2, 3]],\\\n",
    "            ['otvehwgt', 'owgtg', ['<', '>=<', '>='], [101, 101, 201], [0, 1, 2]],\\\n",
    "            #['otvehwgt', 'owgtg', ['<', '>=<', '>=<', '>='], [101, 101, 151, 201], [0, 1, 2, 3]],\\\n",
    "            ['BMI', 'BMIG', ['<'] + ['>=<' for i in range(6)] + ['>='], [16, 16, 17, 18.5, 25, 30, 35, 40], list(range(8))],\\\n",
    "            ['BMI', 'BMIGJP', ['<'] + ['>=<' for i in range(4)] + ['>='], [18.5, 18.5, 25, 30, 35, 40], list(range(6))],\\\n",
    "            ['ACCTYPE', 'ACCG', ['<'] + ['>=<' for i in range(15)], [1, 1, 6, 11, 20, 34, 44, 50, 54, 64, 68, 76, 86, 94, 98, 99, 100], list(range(16))], \\\n",
    "            ['ACCTYPE', 'ACCG2',\\\n",
    "            ['==' for i in range(14)] + ['>=<', '==', '=='] + ['>=<', '==', '==', '=='] + ['==' for i in range(9)] + ['==' for i in range(6)] + ['>=<', '==', '>=<', '=='] + ['>=<' if i % 2 == 0 else '==' for i in range(6)] + ['==' for i in range(13)], \\\n",
    "            [0, 11, 32, 33, 42, 43, 74, 75, 84, 85, 90, 91, 98, 99] + [1, 10, 92] + [50, 63, 80, 81] + [20, 24, 28, 34, 36, 38, 40, 76, 78] + [69, 71, 73, 83, 86, 88] + [44, 49, 64, 67] + [21, 23, 25, 27, 29, 31, 35, 37, 39, 41, 68, 70, 72, 77, 79, 82, 87, 89, 93], \\\n",
    "            [0 for i in range(14)] + [1 for i in range(3)] + [2 for i in range(4)] + [3 for i in range(9)] + [4 for i in range(6)] + [5 for i in range(4)] + [6 for i in range(19)]], \\\n",
    "            ['ACCTYPE', 'ACCG3', \\\n",
    "            ['==' for i in range(11)] + ['>=<', '==', '>=<', '=='] + ['==' for i in range(3)] + ['==' for i in range(4)] + ['>=<', '==', '==', '=='] + ['>=<'] + ['==' for i in range(13)] + ['>=<'] + ['==' for i in range(5)] + ['==' for i in range(4)] + ['==' for i in range(4)] + ['==' for i in range(8)] + ['==' for i in range(4)] + ['==' for i in range(4)],\\\n",
    "            [0, 32, 33, 74, 75, 84, 85, 90, 91, 98, 99] + [50, 53, 64, 67] + [11, 42, 43] + [45, 48, 49, 68] + [1, 5, 73, 76] + [54, 63, 20, 24, 28, 34, 36, 38, 40, 69, 83, 86, 88, 93] + [6, 10, 71, 78, 80, 81] + [47, 72, 82, 89] + [23, 27, 31, 77] + [21, 25, 29, 35, 37, 39, 41, 92] + [22, 26, 30, 79] + [44, 46, 70, 87], \\\n",
    "            [0 for i in range(11)] + [1 for i in range(4)] + [5 for i in range(3)] + [7 for i in range(4)] + [3 for i in range(4)] + [4 for i in range(14)] + [2 for i in range(6)] + [6 for i in range(4)] + [9 for i in range(4)] + [11 for i in range(8)] + [10 for i in range(4)] + [8 for i in range(4)]]]\n",
    "            \n",
    "for year in uyear:\n",
    "    cds_prepro[year]['BMI'] = cds_prepro[year]['WEIGHT'] /  ((cds_prepro[year]['HEIGHT'] / 100) ** 2)\n",
    "    cds_prepro[year].loc[cds_prepro[year]['WEIGHT'].isnull(), 'BMI'] = None\n",
    "    cds_prepro[year].loc[cds_prepro[year]['HEIGHT'].isnull(), 'BMI'] = None\n",
    "    \n",
    "    for glist in grouping:\n",
    "        col = glist[0]\n",
    "        ncol = glist[1]\n",
    "        h2u = glist[2] \n",
    "        thr = glist[3]\n",
    "        gnum = glist[4]\n",
    "        \n",
    "        for i, usage in enumerate(h2u):\n",
    "            if usage == '<':\n",
    "                cds_prepro[year].loc[cds_prepro[year][col] < thr[i], ncol] = gnum[i]\n",
    "            elif usage == '>=<':\n",
    "                cds_prepro[year].loc[(cds_prepro[year][col] >= thr[i]) & (cds_prepro[year][col] < thr[i + 1]), ncol] = gnum[i]\n",
    "            elif usage == '>=':\n",
    "                cds_prepro[year].loc[cds_prepro[year][col] >= thr[i], ncol] = gnum[i]\n",
    "            elif usage == '==':\n",
    "                cds_prepro[year].loc[cds_prepro[year][col] == thr[i], ncol] = gnum[i]\n",
    "            elif usage == '%':\n",
    "                cds_prepro[year].loc[cds_prepro[year][col] % thr[i][0] == thr[i][1], ncol] = gnum[i]\n",
    "            elif usage == '%>':\n",
    "                cds_prepro[year].loc[cds_prepro[year][col] % thr[i][0] > thr[i][1], ncol] = gnum[i]\n",
    "    \n",
    "    cds_prepro[year].loc[(cds_prepro[year]['BODYTYPE'] <= 9) | (cds_prepro[year]['BODYTYPE'] == 11) | (cds_prepro[year]['BODYTYPE'] == 12), 'BODYG'] = 0 #Sedan\n",
    "    cds_prepro[year].loc[(cds_prepro[year]['BODYTYPE'] >= 14) & (cds_prepro[year]['BODYTYPE'] <= 19), 'BODYG'] = 1 #SUV\n",
    "    cds_prepro[year].loc[((cds_prepro[year]['BODYTYPE'] >= 20) & (cds_prepro[year]['BODYTYPE'] <= 29)) | (cds_prepro[year]['BODYTYPE'] == 60), 'BODYG'] = 2 #Van\n",
    "    cds_prepro[year].loc[(cds_prepro[year]['BODYTYPE'] == 10) | ((cds_prepro[year]['BODYTYPE'] >= 30) & (cds_prepro[year]['BODYTYPE'] <= 39)) | (cds_prepro[year]['BODYTYPE'] == 74), 'BODYG'] = 3 #Pickup\n",
    "    cds_prepro[year].loc[((cds_prepro[year]['BODYTYPE'] >= 40) & (cds_prepro[year]['BODYTYPE'] <= 49)) | ((cds_prepro[year]['BODYTYPE'] >= 61) & (cds_prepro[year]['BODYTYPE'] <= 70)) | ((cds_prepro[year]['BODYTYPE'] >= 78) & (cds_prepro[year]['BODYTYPE'] <= 79)), 'BODYG'] = 4 #Truck\n",
    "    cds_prepro[year].loc[(cds_prepro[year]['BODYTYPE'] >= 50) & (cds_prepro[year]['BODYTYPE'] <= 59), 'BODYG'] = 5 #Bus\n",
    "    \n",
    "    cds_prepro[year].loc[(cds_prepro[year]['otbdytyp'] <= 9) | (cds_prepro[year]['otbdytyp'] == 11) | (cds_prepro[year]['otbdytyp'] == 12), 'obodyg'] = 0 #Sedan\n",
    "    cds_prepro[year].loc[(cds_prepro[year]['otbdytyp'] >= 14) & (cds_prepro[year]['otbdytyp'] <= 19), 'obodyg'] = 1 #SUV\n",
    "    cds_prepro[year].loc[((cds_prepro[year]['otbdytyp'] >= 20) & (cds_prepro[year]['otbdytyp'] <= 29)) | (cds_prepro[year]['otbdytyp'] == 60), 'obodyg'] = 2 #Van\n",
    "    cds_prepro[year].loc[(cds_prepro[year]['otbdytyp'] == 10) | ((cds_prepro[year]['otbdytyp'] >= 30) & (cds_prepro[year]['otbdytyp'] <= 39)) | (cds_prepro[year]['otbdytyp'] == 74), 'obodyg'] = 3 #Pickup\n",
    "    cds_prepro[year].loc[((cds_prepro[year]['otbdytyp'] >= 40) & (cds_prepro[year]['otbdytyp'] <= 49)) | ((cds_prepro[year]['otbdytyp'] >= 61) & (cds_prepro[year]['otbdytyp'] <= 70)) | ((cds_prepro[year]['otbdytyp'] >= 78) & (cds_prepro[year]['otbdytyp'] <= 79)), 'obodyg'] = 4 #Truck\n",
    "    cds_prepro[year].loc[(cds_prepro[year]['otbdytyp'] >= 50) & (cds_prepro[year]['otbdytyp'] <= 59), 'obodyg'] = 5 #Bus\n",
    "        \n",
    "    cds_prepro[year]['POS_DOF'] = 0\n",
    "    cds_prepro[year].loc[(((cds_prepro[year]['PDOF1'] >= 0) & (cds_prepro[year]['PDOF1'] <= 110)) | ((cds_prepro[year]['PDOF1'] >= 340) & (cds_prepro[year]['PDOF1'] <= 360))) & ((cds_prepro[year]['SEATLR2'] == 2) & (cds_prepro[year]['SEATROW2'] == 1)), 'POS_DOF'] = 1\n",
    "    cds_prepro[year].loc[((cds_prepro[year]['PDOF1'] >= 70) & (cds_prepro[year]['PDOF1'] <= 200)) & ((cds_prepro[year]['SEATLR2'] == 2) & (cds_prepro[year]['SEATROW2'] == 2)), 'POS_DOF'] = 1\n",
    "    cds_prepro[year].loc[((cds_prepro[year]['PDOF1'] >= 160) & (cds_prepro[year]['PDOF1'] <= 290)) & ((cds_prepro[year]['SEATLR2'] == 1) & (cds_prepro[year]['SEATROW2'] == 2)), 'POS_DOF'] = 1\n",
    "    cds_prepro[year].loc[(((cds_prepro[year]['PDOF1'] >= 250) & (cds_prepro[year]['PDOF1'] <= 360)) | ((cds_prepro[year]['PDOF1'] >= 0) & (cds_prepro[year]['PDOF1'] <= 20))) & ((cds_prepro[year]['SEATLR2'] == 1) & (cds_prepro[year]['SEATROW2'] == 1)), 'POS_DOF'] = 1    "
   ]
  },
  {
   "cell_type": "code",
   "execution_count": null,
   "metadata": {},
   "outputs": [],
   "source": [
    "#for year in  uyear:\n",
    "#    cds_prepro[year] = cds_prepro[year].query('BODYG <=  3 and MANCOLL != 0')"
   ]
  },
  {
   "cell_type": "markdown",
   "metadata": {},
   "source": [
    "## 車両毎にMAISの最大値のみ残す\n",
    "MAISでソートし, VEHNOが重複しているレコードを上にあるものを残して削除  \n",
    "MAIS3+のカラムを作成したのでMAISのカラムはドロップ"
   ]
  },
  {
   "cell_type": "code",
   "execution_count": null,
   "metadata": {},
   "outputs": [],
   "source": [
    "for year in uyear:\n",
    "    #print(pycolor.RED + year + pycolor.END)\n",
    "    #print(len(cds_prepro[year]))\n",
    "    cds_prepro[year] = cds_prepro[year].sort_values(by = pcol, ascending = False)\n",
    "    cds_prepro[year] = cds_prepro[year].drop_duplicates(subset = ['CASEID', 'PSU', 'VEHNO'])\n",
    "    #cds_prepro[year] = cds_prepro[year].drop(['PSU', 'CASEID', 'VEHNO'], axis = 1)\n",
    "    len(cds_prepro[year])\n",
    "    #print(len(cds_prepro[year]))"
   ]
  },
  {
   "cell_type": "markdown",
   "metadata": {},
   "source": [
    "## 1~15年を結合"
   ]
  },
  {
   "cell_type": "code",
   "execution_count": null,
   "metadata": {},
   "outputs": [],
   "source": [
    "cds_all = cds_prepro['1']\n",
    "for year in range(2, 16):\n",
    "    year = str(year)\n",
    "    cds_all = pd.concat([cds_all, cds_prepro[year]])\n",
    "len(cds_all)"
   ]
  },
  {
   "cell_type": "markdown",
   "metadata": {},
   "source": [
    "## MANCOLLを整数値に変換"
   ]
  },
  {
   "cell_type": "code",
   "execution_count": null,
   "metadata": {},
   "outputs": [],
   "source": [
    "cds_all.reset_index(drop = True, inplace = True)\n",
    "mc = pd.DataFrame(cds_all['MANCOLL'].dropna())\n",
    "mc = mc.astype(np.int64)\n",
    "#cds_all['MANCOLL'].mask(cds_all['MANCOLL'].isnull()).head()\n",
    "#mc.head()\n",
    "len(mc)\n",
    "len(cds_all)\n",
    "cds_all.drop('MANCOLL', axis = 1, inplace = True)\n",
    "cds_all = pd.concat([cds_all, mc], axis = 1, join_axes = [cds_all.index])"
   ]
  },
  {
   "cell_type": "markdown",
   "metadata": {},
   "source": [
    "## EVENTテーブルで車以外と衝突のあったデータを削除"
   ]
  },
  {
   "cell_type": "code",
   "execution_count": null,
   "metadata": {},
   "outputs": [],
   "source": [
    "#絞り込み用(もっと綺麗に書けそう)\n",
    "cds_all['CASEID'] = cds_all['CASEID'].astype(str)\n",
    "plist = list(cds_all['PSU'])\n",
    "ylist = list(cds_all['YEAR'].astype(int)-2000)\n",
    "vehno = list(cds_all['VEHNO'])\n",
    "ixlist = list(cds_all.index)\n",
    "for i, num in enumerate(ylist):\n",
    "    cid = cds_all.at[ixlist[i], 'CASEID']\n",
    "    cds['event_{}'.format(num)]['CASEID'] = cds['event_{}'.format(num)]['CASEID'].astype(str)\n",
    "    if len(cds['event_{}'.format(num)].query('PSU == {} & CASEID == \"{}\" & VEHNUM == {} & OBJCONT > 40'.format(plist[i], cid, vehno[i]))) > 0:\n",
    "        #if len(cds_all.query('(PSU == {} & CASEID == \"{}\" & VEHNO == {} & YEAR == {})'.format(plist[i], cid, vehno[i], num + 2000))) > 1:\n",
    "            #print(cds_all.query('(PSU == {} & CASEID == \"{}\" & VEHNO == {} & YEAR == {})'.format(plist[i], cid, vehno[i], num + 2000)))\n",
    "        cds_all = cds_all.query('~(PSU == {} & CASEID == \"{}\" & VEHNO == {} & YEAR == {})'.format(plist[i], cid, vehno[i], num + 2000))\n",
    "len(cds_all)"
   ]
  },
  {
   "cell_type": "markdown",
   "metadata": {},
   "source": [
    "## EVENTテーブルから最初に衝突した際の衝突箇所を抽出しGADに格納"
   ]
  },
  {
   "cell_type": "code",
   "execution_count": null,
   "metadata": {},
   "outputs": [],
   "source": [
    "cds_all['GAD'] = np.nan\n",
    "cds_all['GAD']  = cds_all['GAD'].astype(str)\n",
    "cds_all['ogad'] = np.nan\n",
    "cds_all['ogad']  = cds_all['ogad'].astype(str)\n",
    "plist = list(cds_all['PSU'])\n",
    "ylist = list(cds_all['YEAR'].astype(int)-2000)\n",
    "vehno = list(cds_all['VEHNO'])\n",
    "ixlist = list(cds_all.index)\n",
    "for i, num in enumerate(ylist):\n",
    "    cid = cds_all.at[ixlist[i], 'CASEID']\n",
    "    tempdf = cds['event_{}'.format(num)].query('PSU == {} & CASEID == \"{}\" & ((VEHNUM == 1 & OBJCONT == 2) | (VEHNUM == 2 & OBJCONT == 1))'.format(plist[i], cid))\n",
    "    tempdf = tempdf.drop_duplicates(subset = ['PSU', 'CASEID'])\n",
    "    if tempdf['ACCSEQ'].iloc[0] == 1:\n",
    "        if tempdf['VEHNUM'].iloc[0] == 1:\n",
    "            v1 = str(tempdf['GADEV1'].iloc[0])\n",
    "            v2 = str(tempdf['GADEV2'].iloc[0])\n",
    "        else:\n",
    "            v1 = str(tempdf['GADEV2'].iloc[0])\n",
    "            v2 = str(tempdf['GADEV1'].iloc[0])\n",
    "        if vehno[i] == 1:\n",
    "            cds_all.at[ixlist[i], 'GAD'] = v1\n",
    "            cds_all.at[ixlist[i], 'ogad'] = v2\n",
    "        elif vehno[i] == 2:\n",
    "            cds_all.at[ixlist[i], 'GAD'] = v2\n",
    "            cds_all.at[ixlist[i], 'ogad'] = v1\n",
    "    else:\n",
    "        cds_all = cds_all.query('~(PSU == {} & CASEID == \"{}\" & VEHNO == {} & YEAR == {})'.format(plist[i], cid, vehno[i], num + 2000))\n",
    "        \n",
    "gadval = list(cds_all['GAD'].unique())\n",
    "for i, val in enumerate(gadval):\n",
    "    print(val, ':', i)\n",
    "    cds_all['GAD'] = cds_all['GAD'].str.replace(val, str(i))\n",
    "cds_all['GAD'] = cds_all['GAD'].astype(int)\n",
    "\n",
    "gadval = list(cds_all['ogad'].unique())\n",
    "for i, val in enumerate(gadval):\n",
    "    print(val, ':', i)\n",
    "    cds_all['ogad'] = cds_all['ogad'].str.replace(val, str(i))\n",
    "cds_all['ogad'] = cds_all['ogad'].astype(int)\n",
    "cds_all = cds_all.query('GAD < 4 and ogad < 4')\n",
    "len(cds_all)\n",
    "cds_all['SHL1'] = cds_all['SHL1'].map({b'Y': 0, b'D': 1, b'Z': 2, b'L': 3, b'P': 4, b'F': 5, b'R': 6, b'9': 7, b'B': 8, b'C': 9})"
   ]
  },
  {
   "cell_type": "code",
   "execution_count": null,
   "metadata": {},
   "outputs": [],
   "source": [
    "plist = list(cds_all['PSU'])\n",
    "ylist = list(cds_all['YEAR'].astype(int)-2000)\n",
    "vehno = list(cds_all['VEHNO'])\n",
    "ixlist = list(cds_all.index)\n",
    "count = 0\n",
    "count2 = 0\n",
    "for i, num in enumerate(ylist):\n",
    "    cid = cds_all.at[ixlist[i], 'CASEID']\n",
    "    if len(cds['event_{}'.format(num)].query('PSU == {} & CASEID == \"{}\" & ((VEHNUM == 1 & OBJCONT == 2) | (VEHNUM == 2 & OBJCONT == 1)) & ACCSEQ == 1'.format(plist[i], cid))) == 1:\n",
    "        count2 += 1\n",
    "        if ~np.isnan(cds_all.at[ixlist[i], 'DVTOTAL']):\n",
    "            count += 1\n",
    "len(cds_all)\n",
    "count2\n",
    "count"
   ]
  },
  {
   "cell_type": "markdown",
   "metadata": {},
   "source": [
    "## 出力用DF\n",
    "リサンプリング用数値データで出力"
   ]
  },
  {
   "cell_type": "code",
   "execution_count": null,
   "metadata": {},
   "outputs": [],
   "source": [
    "col = ['YEAR', 'MAIS', 'MAIS3', 'MANCOLL', 'DVTOTAL', 'BODYG', 'obodyg', 'BAGAVAIL', 'BAGAVOTH', 'SEATROW2', 'SEATLR2', 'SEX', 'MODELYR', 'CURBWGT', 'otvehwgt', 'AGE', 'BMI', 'PDOF1']\n",
    "option = ['SEATROW', 'PDOF1', 'SEATLR', 'BMIG']\n",
    "output_df = cds_all[col]\n",
    "output_df.to_csv(sep = ',', index = False, encoding = 'utf-8', path_or_buf = os.path.join(path, 'grouped_data.csv'))"
   ]
  },
  {
   "cell_type": "markdown",
   "metadata": {},
   "source": [
    "## 出力用DF\n",
    "グルーピング後を出力"
   ]
  },
  {
   "cell_type": "code",
   "execution_count": null,
   "metadata": {},
   "outputs": [],
   "source": [
    "col = ['YEAR', 'MAIS', 'MAIS3', 'ACCG', 'ACCG2', 'ACCG3', 'GAD', 'ogad', 'DVTOTAL', 'DVper10', 'BODYG', 'obodyg', 'BAGAVAIL', 'BAGAVOTH', 'SEATROW2', 'SEATLR2', 'SEX', 'MODELG', 'WGTG', 'owgtg', 'AGEG', 'BMIGJP', 'PDOFG']\n",
    "option = ['SEATROW', 'PDOF1', 'SEATLR', 'BMIG']\n",
    "output_df = cds_all[col]\n",
    "output_df.to_csv(sep = ',', index = False, encoding = 'utf-8', path_or_buf = os.path.join(path, 'grouped_data.csv'))"
   ]
  },
  {
   "cell_type": "code",
   "execution_count": null,
   "metadata": {},
   "outputs": [],
   "source": [
    "X_train = cds_prepro['1']\n",
    "for year in range(2, 15):\n",
    "    year = str(year)\n",
    "    X_train = pd.concat([X_train, cds_prepro[year]])\n",
    "X_test = cds_prepro['15']"
   ]
  },
  {
   "cell_type": "code",
   "execution_count": null,
   "metadata": {},
   "outputs": [],
   "source": [
    "X_train = X_train[['MAIS', 'MAIS3', 'MANCOLL', 'DVper10', 'MODELG', 'WGTG', 'owgtg', 'PDOFG', 'BAGAVAIL', 'BAGAVOTH', 'SEATROW2', 'SEATLR2', 'SEX', 'AGEG', 'BMIG', 'BMIGJP', 'BODYG', 'obodyg', 'PREMOVE']]"
   ]
  },
  {
   "cell_type": "code",
   "execution_count": null,
   "metadata": {},
   "outputs": [],
   "source": [
    "X_train = X_train[['MODELG', 'BODYG', 'obodyg', 'WGTG', 'owgtg',  'BAGAVOTH', 'BAGAVAIL', 'SEX', 'AGEG', 'SEATLR2', 'SEATROW2', 'BMIGJP', 'MANCOLL', 'DVper10', 'PDOFG']]"
   ]
  },
  {
   "cell_type": "markdown",
   "metadata": {},
   "source": [
    "## 特殊なACCTYPEに対応するEVENTデータの確認"
   ]
  },
  {
   "cell_type": "code",
   "execution_count": null,
   "metadata": {},
   "outputs": [],
   "source": [
    "cds['event_{}'.format(num)].head()\n",
    "len(cds_all)"
   ]
  },
  {
   "cell_type": "code",
   "execution_count": null,
   "metadata": {},
   "outputs": [],
   "source": [
    "cds_all['SHL1'].value_counts()"
   ]
  },
  {
   "cell_type": "code",
   "execution_count": null,
   "metadata": {},
   "outputs": [],
   "source": [
    "actype = 11\n",
    "hoge = cds_all.query('ACCTYPE == {}'.format(actype))\n",
    "len(hoge)\n",
    "len(cds_all)\n",
    "#cds_all.query('EVENTS == 2').ACCTYPE.value_counts()\n",
    "#cds_all.query('EVENTS == {}'.format(actype))\n",
    "cds_all.EVENTS.value_counts()\n",
    "hoge.head(10)\n",
    "#hoge = cds_all\n",
    "#hoge = cds_all\n",
    "#len(hoge.query('VEHNO > 2'))\n",
    "#hoge = cds_all.query('EVENTS == 3')\n",
    "fuga = list(hoge['PSU'])\n",
    "hogera = list(hoge['YEAR'].astype(int)-2000)\n",
    "vehno = list(hoge['VEHNO'])\n",
    "hogepiyo = 0\n",
    "count = 0\n",
    "for i, num in enumerate(hogera):\n",
    "    piyo = hoge.at[hoge.index[i], 'CASEID']\n",
    "    cds['event_{}'.format(num)]['CASEID'] = cds['event_{}'.format(num)]['CASEID'].astype(str)\n",
    "    cds['event_{}'.format(num)]['VEHNUM'] = cds['event_{}'.format(num)]['VEHNUM'].astype(int)\n",
    "    #cds['event_8'].query('PSU == 43')\n",
    "    #cds['event_{}'.format(num)].query('PSU == {} & CASEID == \"{}\"'.format(fuga[i], piyo))\n",
    "    #if 0 != len(cds['event_{}'.format(num)].query('PSU == {} & CASEID == \"{}\" & (CLASS1 == 0 or CLASS2 == 0)'.format(fuga[i], piyo))):\n",
    "    if len(cds['event_{}'.format(num)].query('PSU == {} and CASEID == \"{}\"'.format(fuga[i], piyo))) > 0:\n",
    "        if count < 30:\n",
    "            count += 1\n",
    "            cds['event_{}'.format(num)].query('PSU == {} & CASEID == \"{}\"'.format(fuga[i], piyo))\n",
    "            #cds_all.query('PSU == {} & CASEID == \"{}\" & YEAR == {} & VEHNO == 2'.format(fuga[i], piyo, num + 2000))\n",
    "        #cds['event_{}'.format(num)].query('PSU == {} & CASEID == \"{}\" & VEHNUM == {}'.format(fuga[i], piyo, vehno[i]))\n",
    "        hogepiyo += 1\n",
    "        #hogepiyo\n",
    "hogepiyo"
   ]
  },
  {
   "cell_type": "code",
   "execution_count": null,
   "metadata": {},
   "outputs": [],
   "source": [
    "len(cds_all)\n",
    "hoge = list(cds_all.index)\n",
    "hoge[1000]\n",
    "ixlist = list(cds_all.index)"
   ]
  },
  {
   "cell_type": "code",
   "execution_count": null,
   "metadata": {},
   "outputs": [],
   "source": [
    "cds_all.dtypes"
   ]
  },
  {
   "cell_type": "code",
   "execution_count": null,
   "metadata": {},
   "outputs": [],
   "source": [
    "len(cds_all[cds_all.duplicated(subset=['YEAR', 'CASEID', 'PSU', 'VEHNO'])])"
   ]
  },
  {
   "cell_type": "code",
   "execution_count": null,
   "metadata": {},
   "outputs": [],
   "source": [
    "cds_all[['DOF1', 'PDOFG']]"
   ]
  },
  {
   "cell_type": "markdown",
   "metadata": {},
   "source": [
    "## 相関係数の出力"
   ]
  },
  {
   "cell_type": "code",
   "execution_count": null,
   "metadata": {},
   "outputs": [],
   "source": [
    "X_train = cds_all[col]\n",
    "corr = X_train.corr().round(3)\n",
    "corr.head(len(corr))\n",
    "corr.to_csv('/Users/kei/Desktop/table.csv')\n",
    "triang_mask = np.zeros((corr.shape[1], corr.shape[1]))\n",
    "triang_mask[np.triu_indices_from(triang_mask)] = True\n",
    "sns.heatmap(corr, center = 0, square = True, vmax = 1, vmin = -1)#, mask = triang_mask)\n",
    "plt.savefig('/Users/kei/Desktop/fig.png')"
   ]
  },
  {
   "cell_type": "code",
   "execution_count": null,
   "metadata": {},
   "outputs": [],
   "source": [
    "col =  'BMIGJP'\n",
    "cds_all[col].value_counts()\n",
    "#sns.distplot(cds_all[col])\n",
    "sns.countplot(x = col, data = cds_all)#, hue = 'MAIS3')\n",
    "#, hue = 'MAIS')\n",
    "#cds_all[col].hist()\n",
    "count_df = cds_all[col].value_counts().rename_axis('unique_values').reset_index(name='counts')\n",
    "count_df = count_df[:10]\n",
    "#count_df.plot.bar(y = 'counts', x = 'unique_values')\n",
    "plt.savefig('/Users/kei/Desktop/fig.png')"
   ]
  },
  {
   "cell_type": "code",
   "execution_count": null,
   "metadata": {},
   "outputs": [],
   "source": [
    "col =  'BMIGJP'\n",
    "cds_all[col].value_counts()\n",
    "sns.countplot(x = col, data = cds_all)\n",
    "#, hue = 'MAIS')\n",
    "#cds_all[col].hist(bins = 60)\n",
    "count_df = cds_all[col].value_counts().rename_axis('unique_values').reset_index(name='counts')\n",
    "count_df = count_df[:10]\n",
    "count_df.plot.bar(y = 'counts', x = 'unique_values')\n",
    "plt.savefig('/Users/kei/Desktop/fig.png')"
   ]
  },
  {
   "cell_type": "code",
   "execution_count": null,
   "metadata": {},
   "outputs": [],
   "source": [
    "pos = [[len(cds_all.query('SEATLR2 == 1 and SEATROW2 == 1')), len(cds_all.query('SEATLR2 == 2 and SEATROW2 == 1'))]\n",
    "      , [len(cds_all.query('SEATLR2 == 1 and SEATROW2 == 2')), len(cds_all.query('SEATLR2 == 2 and SEATROW2 == 2'))]]\n",
    "pos\n",
    "sns.heatmap(pos)"
   ]
  },
  {
   "cell_type": "code",
   "execution_count": null,
   "metadata": {},
   "outputs": [],
   "source": [
    "vect = pd.DataFrame(cds_all[['CURBWGT', 'otvehwgt', 'MAIS', 'MAIS3']].dropna(how = 'any'))\n",
    "vect['diff'] = vect['otvehwgt'] - vect['CURBWGT']\n",
    "vect.describe()\n",
    "sns.distplot(vect['diff'], kde = False, bins  = 100)\n",
    "vect.loc[vect['diff'] <= -200, 'diffper50'] = -200\n",
    "for i in range(-200, 200, 50):\n",
    "    vect.loc[(vect['diff'] > i) & (vect['diff'] <= i + 50), 'diffper50'] = i + 25\n",
    "vect.loc[vect['diff'] > 200, 'diffper50'] = 200\n",
    "plt.savefig('/Users/kei/Desktop/fig.png')"
   ]
  },
  {
   "cell_type": "code",
   "execution_count": null,
   "metadata": {},
   "outputs": [],
   "source": [
    "vect = pd.DataFrame(cds_all[['HEIGHT', 'WEIGHT', 'MAIS', 'MAIS3']].dropna(how = 'any'))\n",
    "len(cds_all)\n",
    "len(vect)\n",
    "vect['BMI'] = vect['WEIGHT'] / ((vect['HEIGHT'] / 100) * (vect['HEIGHT'] / 100))\n",
    "#vect['BMI'] = vect['BMI'].round().astype(np.int64)\n",
    "#sns.countplot(x = 'BMI', data = vect)\n",
    "vect.loc[vect['BMI'] < 16 , 'BMI'] = 15\n",
    "vect.loc[vect['BMI'] > 60 , 'BMI'] = 60\n",
    "\n",
    "sns.distplot(vect['BMI'], kde = False, bins  = 36)\n",
    "#sns.countplot(x = 'BMI', data = vect)\n",
    "plt.savefig('/Users/kei/Desktop/fig.png')\n",
    "#.astype(np.int64))\n",
    "#cds_all[col].dropna() = vect"
   ]
  },
  {
   "cell_type": "code",
   "execution_count": null,
   "metadata": {},
   "outputs": [],
   "source": [
    "hoge = pd.DataFrame(cds_all['BMI'].dropna())\n",
    "hoge.loc[hoge['BMI'] < 16 , 'BMI'] = 15\n",
    "hoge.loc[hoge['BMI'] > 60 , 'BMI'] = 60\n",
    "hoge = hoge.round().astype(np.int64)\n",
    "len(hoge)\n",
    "sns.distplot(hoge, kde = False, bins = 36)"
   ]
  },
  {
   "cell_type": "code",
   "execution_count": null,
   "metadata": {},
   "outputs": [],
   "source": [
    "col_s = vect[col].value_counts().rename_axis('unique_values').reset_index(name='counts')\n",
    "col_s['counts'] = col_s['counts'] / (col_s['counts'].sum())\n",
    "count = {}\n",
    "for i in range(0, 2):\n",
    "    hoge = vect.query('MAIS3 == {}'.format(i))\n",
    "    count['{}'.format(i)] = hoge[col].value_counts().rename_axis('unique_values').reset_index(name='counts')\n",
    "    cs = count['{}'.format(i)]['counts'].sum()\n",
    "    count['{}'.format(i)]['MAIS3'] = i\n",
    "    count['{}'.format(i)]['counts'] = count['{}'.format(i)]['counts'] / cs\n",
    "    count['{}'.format(i)]['counts'] = count['{}'.format(i)]['counts'] / col_s['counts']\n",
    "\n",
    "vect_b = count['0']\n",
    "vect_b = pd.concat([vect_b, count['1']])\n",
    "vect_b.head(len(vect_b))\n",
    "sns.heatmap(vect_b.pivot(index = 'unique_values', columns = 'MAIS3', values = 'counts'))\n",
    "plt.savefig('/Users/kei/Desktop/fig.png')"
   ]
  },
  {
   "cell_type": "code",
   "execution_count": null,
   "metadata": {},
   "outputs": [],
   "source": [
    "vect = pd.DataFrame(cds_all[[col, 'MAIS', 'MAIS3']]).dropna(how  = 'any').astype(np.int64)"
   ]
  },
  {
   "cell_type": "code",
   "execution_count": null,
   "metadata": {},
   "outputs": [],
   "source": [
    "col = 'MODELYR'\n",
    "vect = pd.DataFrame(cds_all[[col, 'MAIS', 'MAIS3']].dropna(how = 'any'))\n",
    "sns.distplot(vect[col], hist = True, kde = False)#, bins = 50)\n",
    "plt.savefig('/Users/kei/Desktop/fig.png')"
   ]
  },
  {
   "cell_type": "code",
   "execution_count": null,
   "metadata": {},
   "outputs": [],
   "source": [
    "col = 'POS_DOF'\n",
    "col_s = cds_all[col].value_counts().rename_axis('unique_values').reset_index(name='counts')\n",
    "csum = col_s['counts'].sum()\n",
    "col_s['counts'] = col_s['counts'] / (csum)\n",
    "count = {}\n",
    "for i in range(0, 7):\n",
    "    hoge = cds_all.query('MAIS == {}'.format(i))\n",
    "    count['{}'.format(i)] = hoge[col].value_counts().rename_axis('unique_values').reset_index(name='counts')\n",
    "    count['{}'.format(i)] = count['{}'.format(i)].sort_values('unique_values', ascending = False)\n",
    "    cs = count['{}'.format(i)]['counts'].sum()\n",
    "    count['{}'.format(i)]['MAIS'] = i\n",
    "    count['{}'.format(i)]['counts'] = count['{}'.format(i)]['counts'] / cs #MAIS別比率\n",
    "    count['{}'.format(i)]['counts'] = count['{}'.format(i)]['counts'] / col_s['counts']\n",
    "\n",
    "vect = count['0']\n",
    "for i in range(1, 7):\n",
    "    vect = pd.concat([vect, count['{}'.format(i)]])\n",
    "\n",
    "sns.heatmap(vect.pivot(index = 'unique_values', columns = 'MAIS', values = 'counts'))\n",
    "plt.savefig('/Users/kei/Desktop/fig.png')"
   ]
  },
  {
   "cell_type": "code",
   "execution_count": null,
   "metadata": {},
   "outputs": [],
   "source": [
    "sns.countplot(x=col, data=vect)\n",
    "plt.savefig('/Users/kei/Desktop/fig.png')"
   ]
  },
  {
   "cell_type": "code",
   "execution_count": null,
   "metadata": {},
   "outputs": [],
   "source": [
    "col = 'obodyg'\n",
    "col_s = cds_all[col].value_counts().rename_axis('unique_values').reset_index(name='counts')\n",
    "csum = col_s['counts'].sum()\n",
    "col_s['counts'] = col_s['counts'] / (csum)\n",
    "\n",
    "count = {}\n",
    "for i in range(0, 2):\n",
    "    hoge = cds_all.query('MAIS3 == {}'.format(i))\n",
    "    count['{}'.format(i)] = hoge[col].value_counts().rename_axis('unique_values').reset_index(name='counts')\n",
    "    cs = count['{}'.format(i)]['counts'].sum()\n",
    "    count['{}'.format(i)]['MAIS3'] = i\n",
    "    count['{}'.format(i)]['counts'] = count['{}'.format(i)]['counts'] / cs\n",
    "    count['{}'.format(i)]['counts'] = count['{}'.format(i)]['counts'] / col_s['counts']\n",
    "\n",
    "vect = count['0']\n",
    "vect = pd.concat([vect, count['1']])\n",
    "vect.head(len(vect))\n",
    "sns.heatmap(vect.pivot(index = 'unique_values', columns = 'MAIS3', values = 'counts'))\n",
    "count['1'] = count['1'].sort_values('unique_values')\n",
    "#count['1'].plot(x = 'unique_values', y = 'counts', marker = '.')\n",
    "count['0'] = count['0'].sort_values('unique_values')\n",
    "#count['0'].plot(x = 'unique_values', y = 'counts', marker = '.')\n",
    "plt.savefig('/Users/kei/Desktop/fig.png')"
   ]
  }
 ],
 "metadata": {
  "kernelspec": {
   "display_name": "Python 3",
   "language": "python",
   "name": "python3"
  },
  "language_info": {
   "codemirror_mode": {
    "name": "ipython",
    "version": 3
   },
   "file_extension": ".py",
   "mimetype": "text/x-python",
   "name": "python",
   "nbconvert_exporter": "python",
   "pygments_lexer": "ipython3",
   "version": "3.6.5"
  }
 },
 "nbformat": 4,
 "nbformat_minor": 2
}
